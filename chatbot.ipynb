{
  "cells": [
    {
      "cell_type": "code",
      "source": [
        "!pip install transformers faiss-cpu scikit-learn --quiet"
      ],
      "metadata": {
        "id": "o61L7MA1tjW8"
      },
      "execution_count": null,
      "outputs": []
    },
    {
      "cell_type": "code",
      "execution_count": null,
      "metadata": {
        "colab": {
          "base_uri": "https://localhost:8080/"
        },
        "id": "6RrJ2G-Is8u-",
        "outputId": "7295f708-0ff7-4332-8ea3-45012ee9d683"
      },
      "outputs": [
        {
          "output_type": "stream",
          "name": "stdout",
          "text": [
            "Chatbot: Hi there! Ask me anything about AI, ML, or related topics. (Type 'exit' to quit)\n",
            "You: what is GPT\n",
            "Chatbot: GPT is a language model that is designed to generate human-like text.\n",
            "You: exit\n",
            "Chatbot: Goodbye!\n"
          ]
        }
      ],
      "source": [
        "\n",
        "from transformers import AutoTokenizer, AutoModelForCausalLM\n",
        "from sklearn.feature_extraction.text import TfidfVectorizer\n",
        "import torch\n",
        "\n",
        "knowledge_base = [\n",
        "    \"Artificial Intelligence (AI) is the simulation of human intelligence in machines.\",\n",
        "    \"Machine Learning (ML) is a subset of AI that focuses on training algorithms to learn from data.\",\n",
        "    \"Transformers are a type of neural network architecture used in natural language processing.\",\n",
        "    \"Retrieval-Augmented Generation (RAG) enhances chatbots by retrieving context-relevant knowledge before generating responses.\",\n",
        "    \"TF-IDF stands for Term Frequency-Inverse Document Frequency, and it is used for information retrieval.\",\n",
        "    \"GPT models are pre-trained language models designed to generate human-like text.\",\n",
        "    \"RAG combines retrieval and generation to create a smarter AI system.\"\n",
        "]\n",
        "\n",
        "vectorizer = TfidfVectorizer()\n",
        "knowledge_vectors = vectorizer.fit_transform(knowledge_base)\n",
        "\n",
        "\n",
        "model_name = \"gpt2\"\n",
        "tokenizer = AutoTokenizer.from_pretrained(model_name)\n",
        "model = AutoModelForCausalLM.from_pretrained(model_name)\n",
        "\n",
        "\n",
        "def retrieve_context(query, top_k=1):\n",
        "    \"\"\"Retrieve the most relevant knowledge from the knowledge base.\"\"\"\n",
        "    query_vector = vectorizer.transform([query])\n",
        "    scores = (knowledge_vectors * query_vector.T).toarray().flatten()\n",
        "    top_indices = scores.argsort()[-top_k:][::-1]\n",
        "    return \" \".join([knowledge_base[i] for i in top_indices])\n",
        "\n",
        "\n",
        "def chatbot_response(user_input):\n",
        "    context = retrieve_context(user_input)\n",
        "    prompt = f\"Context: {context}\\n\\nUser: {user_input}\\nBot:\"\n",
        "    inputs = tokenizer.encode(prompt, return_tensors=\"pt\")\n",
        "    outputs = model.generate(\n",
        "        inputs,\n",
        "        max_length=300,\n",
        "        temperature=0.7,\n",
        "        top_p=0.9,\n",
        "        pad_token_id=tokenizer.eos_token_id\n",
        "    )\n",
        "    response = tokenizer.decode(outputs[0], skip_special_tokens=True)\n",
        "    return response.split(\"Bot:\")[-1].strip()\n",
        "\n",
        "print(\"Chatbot: Hi there! Ask me anything about AI, ML, or related topics. (Type 'exit' to quit)\")\n",
        "while True:\n",
        "    user_input = input(\"You: \")\n",
        "    if user_input.lower() == \"exit\":\n",
        "        print(\"Chatbot: Goodbye!\")\n",
        "        break\n",
        "    try:\n",
        "        response = chatbot_response(user_input)\n",
        "        print(f\"Chatbot: {response}\")\n",
        "    except Exception as e:\n",
        "        print(f\"An error occurred: {e}\")\n"
      ]
    },
    {
      "cell_type": "code",
      "source": [],
      "metadata": {
        "id": "5CZVblbtvVH1"
      },
      "execution_count": null,
      "outputs": []
    }
  ],
  "metadata": {
    "colab": {
      "provenance": []
    },
    "kernelspec": {
      "display_name": "Python 3",
      "name": "python3"
    },
    "language_info": {
      "name": "python"
    }
  },
  "nbformat": 4,
  "nbformat_minor": 0
}